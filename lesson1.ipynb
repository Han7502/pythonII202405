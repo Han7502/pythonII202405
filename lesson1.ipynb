{
 "cells": [
  {
   "cell_type": "code",
   "execution_count": 2,
   "metadata": {},
   "outputs": [],
   "source": [
    "import numpy as np\n",
    "import pandas as pd\n",
    "import matplotlib.pyplot as plt\n",
    "import sklearn.datasets"
   ]
  },
  {
   "cell_type": "code",
   "execution_count": 3,
   "metadata": {},
   "outputs": [
    {
     "name": "stdout",
     "output_type": "stream",
     "text": [
      "[[ 5 10 15]\n",
      " [ 2  4  6]\n",
      " [ 1  3  5]]\n",
      "[100]\n",
      "[[100]\n",
      " [100]\n",
      " [100]]\n"
     ]
    }
   ],
   "source": [
    "import numpy as np\n",
    "\n",
    "k1 = np.array([[5,10,15],\n",
    "               [2,4,6],\n",
    "               [1,3,5]])\n",
    "k2 = np.array([100])\n",
    "k3 = np.array([[100],\n",
    "              [100],\n",
    "              [100]])\n",
    "print(k1)\n",
    "print(k2)\n",
    "print(k3)"
   ]
  },
  {
   "cell_type": "code",
   "execution_count": 4,
   "metadata": {},
   "outputs": [
    {
     "name": "stdout",
     "output_type": "stream",
     "text": [
      "[10, 20, 30, 40, 50]\n",
      "[50 70 90]\n"
     ]
    }
   ],
   "source": [
    "#簡單計算\n",
    "\n",
    "x = [10,20,30]\n",
    "\n",
    "print(x+[40,50])#list 合併元素\n",
    "\n",
    "y = np.array(x)#將list轉成array去做計算\n",
    "print(y+[40,50,60])#numpy會自動推播數量再進行計算"
   ]
  },
  {
   "cell_type": "code",
   "execution_count": 5,
   "metadata": {},
   "outputs": [
    {
     "name": "stdout",
     "output_type": "stream",
     "text": [
      "<class 'numpy.ndarray'>\n",
      "[20 20 20]\n"
     ]
    }
   ],
   "source": [
    "A = np.array([10,10,10])\n",
    "print(type(A))\n",
    "print(A+10)"
   ]
  },
  {
   "cell_type": "code",
   "execution_count": 6,
   "metadata": {},
   "outputs": [
    {
     "name": "stdout",
     "output_type": "stream",
     "text": [
      "(6,)\n",
      "(3, 4)\n"
     ]
    }
   ],
   "source": [
    "a4 = np.array([11,12,13,14,15,16])\n",
    "a5 = np.array([[1,2,3,4],\n",
    "               [11,12,13,14],\n",
    "               [21,22,23,24]])\n",
    "#結構\n",
    "print(a4.shape)\n",
    "print(a5.shape)"
   ]
  },
  {
   "cell_type": "code",
   "execution_count": 7,
   "metadata": {},
   "outputs": [
    {
     "name": "stdout",
     "output_type": "stream",
     "text": [
      "[[11 12 13]\n",
      " [14 15 16]]\n",
      "[11 12 13 14 15 16]\n",
      "-------------------\n",
      "[[11 12]\n",
      " [13 14]\n",
      " [15 16]]\n",
      "[[11 12]\n",
      " [13 14]\n",
      " [15 16]]\n",
      "[[ 1  2]\n",
      " [ 3  4]\n",
      " [11 12]\n",
      " [13 14]\n",
      " [21 22]\n",
      " [23 24]]\n",
      "[[ 1  2  3  4 11 12 13 14 21 22 23 24]]\n"
     ]
    }
   ],
   "source": [
    "#改變結構\n",
    "print(a4.reshape(2,3))\n",
    "print(a4)\n",
    "print('-------------------')\n",
    "\n",
    "print(a4.reshape(3,-1))# -1代表自動調整計算\n",
    "print(a4.reshape(-1,2))\n",
    "\n",
    "print(a5.reshape(6,-1))# -1代表自動調整計算\n",
    "print(a5.reshape(-1,12))"
   ]
  },
  {
   "cell_type": "code",
   "execution_count": 8,
   "metadata": {},
   "outputs": [
    {
     "name": "stdout",
     "output_type": "stream",
     "text": [
      "[ 1  2  3  4 11 12 13 14 21 22 23 24]\n"
     ]
    }
   ],
   "source": [
    "#轉成一維\n",
    "print(a5.reshape(-1))"
   ]
  },
  {
   "cell_type": "code",
   "execution_count": 9,
   "metadata": {},
   "outputs": [
    {
     "name": "stdout",
     "output_type": "stream",
     "text": [
      "[86 75 89]\n",
      "89\n",
      "89\n"
     ]
    }
   ],
   "source": [
    "#讀取元素\n",
    "x = np.array([[86,75,89],\n",
    "              [77,62,81],\n",
    "              [82,69,85]]) \n",
    "#指定單一位置，若位置不存在則出錯\n",
    "print(x[0])\n",
    "#print(x[5])\n",
    "print(x[0][2])\n",
    "print(x[0,2])"
   ]
  },
  {
   "cell_type": "code",
   "execution_count": 10,
   "metadata": {},
   "outputs": [
    {
     "name": "stdout",
     "output_type": "stream",
     "text": [
      "[[86 75 89]\n",
      " [77 62 81]]\n",
      "----------------\n",
      "[75]\n",
      "[75 89]\n",
      "[]\n",
      "[86 75 89]\n",
      "----------------\n",
      "[[86 75 89]\n",
      " [77 62 81]\n",
      " [82 69 85]]\n",
      "[[86 75 89]\n",
      " [77 62 81]\n",
      " [82 69 85]]\n",
      "----------------\n",
      "[86 75]\n",
      "[[75 89]\n",
      " [62 81]]\n"
     ]
    }
   ],
   "source": [
    "#slice 範圍選取，若位置不存在則返回[]\n",
    "print(x[:2])\n",
    "print('----------------')\n",
    "print(x[0][1:2])\n",
    "print(x[0][1: ])\n",
    "print(x[0][10:30])\n",
    "print(x[0][:20])\n",
    "print('----------------')\n",
    "print(x[:])\n",
    "print(x)\n",
    "print('----------------')\n",
    "print(x[0,0:2])\n",
    "print(x[:2, 1:])"
   ]
  },
  {
   "cell_type": "code",
   "execution_count": 11,
   "metadata": {},
   "outputs": [
    {
     "name": "stdout",
     "output_type": "stream",
     "text": [
      "[[86 75 89]\n",
      " [77 62 81]\n",
      " [82 69 85]]\n",
      "[[86 75 89]\n",
      " [77 62 81]]\n",
      "----------------\n",
      "[75]\n",
      "[75 89]\n",
      "[]\n",
      "[86 75 89]\n",
      "----------------\n",
      "[[86 75 89]\n",
      " [77 62 81]\n",
      " [82 69 85]]\n",
      "[[86 75 89]\n",
      " [77 62 81]\n",
      " [82 69 85]]\n",
      "----------------\n",
      "[86 75]\n",
      "[[75 89]\n",
      " [62 81]]\n"
     ]
    }
   ],
   "source": [
    "#slice 範圍選取，若位置不存在則返回[]\n",
    "print(x)\n",
    "print(x[:2])\n",
    "print('----------------')\n",
    "print(x[0][1:2])\n",
    "print(x[0][1: ])\n",
    "print(x[0][10:30])\n",
    "print(x[0][:20])\n",
    "print('----------------')\n",
    "print(x[:])\n",
    "print(x)\n",
    "print('----------------')\n",
    "print(x[0,0:2])\n",
    "print(x[:2, 1:])"
   ]
  },
  {
   "cell_type": "code",
   "execution_count": 12,
   "metadata": {},
   "outputs": [
    {
     "name": "stdout",
     "output_type": "stream",
     "text": [
      "2\n",
      "[2 6 1]\n",
      "arr1:\n",
      "[[ 3 10]\n",
      " [ 9  6]\n",
      " [ 1  0]\n",
      " [ 1  9]\n",
      " [ 0  0]]\n",
      "-----------------------\n",
      "arr2:\n",
      "[0.72904971 0.43857224 0.0596779 ]\n"
     ]
    }
   ],
   "source": [
    "# 亂數\n",
    "np.random.seed(123)#固定亂數規則(基數)\n",
    "\n",
    "arr0 = np.random.randint(0, 11)#0-11(有包含11)之間產生一個隨機整數\n",
    "print(arr0)\n",
    "arr00 = np.random.randint(0, 11, 3)#0-11(有包含11)之間產生3個隨機整數\n",
    "print(arr00)\n",
    "\n",
    "arr1 = np.random.randint(0, 11, (5, 2))\n",
    "print('arr1:')\n",
    "print(arr1)\n",
    "print(\"-----------------------\")\n",
    "arr2 = np.random.rand(3)# 3個隨機小數，0-1之間(不含 1)\n",
    "print('arr2:')\n",
    "print(arr2)"
   ]
  }
 ],
 "metadata": {
  "kernelspec": {
   "display_name": "Python 3",
   "language": "python",
   "name": "python3"
  },
  "language_info": {
   "codemirror_mode": {
    "name": "ipython",
    "version": 3
   },
   "file_extension": ".py",
   "mimetype": "text/x-python",
   "name": "python",
   "nbconvert_exporter": "python",
   "pygments_lexer": "ipython3",
   "version": "3.10.13"
  }
 },
 "nbformat": 4,
 "nbformat_minor": 2
}
