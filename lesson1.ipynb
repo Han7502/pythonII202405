{
 "cells": [
  {
   "cell_type": "code",
   "execution_count": 2,
   "metadata": {},
   "outputs": [],
   "source": [
    "import numpy as np\n",
    "import pandas as pd\n",
    "import matplotlib.pyplot as plt\n",
    "import sklearn.datasets"
   ]
  },
  {
   "cell_type": "code",
   "execution_count": 3,
   "metadata": {},
   "outputs": [
    {
     "name": "stdout",
     "output_type": "stream",
     "text": [
      "[[ 5 10 15]\n",
      " [ 2  4  6]\n",
      " [ 1  3  5]]\n",
      "[100]\n",
      "[[100]\n",
      " [100]\n",
      " [100]]\n"
     ]
    }
   ],
   "source": [
    "import numpy as np\n",
    "\n",
    "k1 = np.array([[5,10,15],\n",
    "               [2,4,6],\n",
    "               [1,3,5]])\n",
    "k2 = np.array([100])\n",
    "k3 = np.array([[100],\n",
    "              [100],\n",
    "              [100]])\n",
    "print(k1)\n",
    "print(k2)\n",
    "print(k3)"
   ]
  },
  {
   "cell_type": "code",
   "execution_count": 4,
   "metadata": {},
   "outputs": [
    {
     "name": "stdout",
     "output_type": "stream",
     "text": [
      "[10, 20, 30, 40, 50]\n",
      "[50 70 90]\n"
     ]
    }
   ],
   "source": [
    "#簡單計算\n",
    "\n",
    "x = [10,20,30]\n",
    "\n",
    "print(x+[40,50])#list 合併元素\n",
    "\n",
    "y = np.array(x)#將list轉成array去做計算\n",
    "print(y+[40,50,60])#numpy會自動推播數量再進行計算"
   ]
  },
  {
   "cell_type": "code",
   "execution_count": 5,
   "metadata": {},
   "outputs": [
    {
     "name": "stdout",
     "output_type": "stream",
     "text": [
      "<class 'numpy.ndarray'>\n",
      "[20 20 20]\n"
     ]
    }
   ],
   "source": [
    "A = np.array([10,10,10])\n",
    "print(type(A))\n",
    "print(A+10)"
   ]
  },
  {
   "cell_type": "code",
   "execution_count": 6,
   "metadata": {},
   "outputs": [
    {
     "name": "stdout",
     "output_type": "stream",
     "text": [
      "(6,)\n",
      "(3, 4)\n"
     ]
    }
   ],
   "source": [
    "a4 = np.array([11,12,13,14,15,16])\n",
    "a5 = np.array([[1,2,3,4],\n",
    "               [11,12,13,14],\n",
    "               [21,22,23,24]])\n",
    "#結構\n",
    "print(a4.shape)\n",
    "print(a5.shape)"
   ]
  },
  {
   "cell_type": "code",
   "execution_count": 7,
   "metadata": {},
   "outputs": [
    {
     "name": "stdout",
     "output_type": "stream",
     "text": [
      "[[11 12 13]\n",
      " [14 15 16]]\n",
      "[11 12 13 14 15 16]\n",
      "-------------------\n",
      "[[11 12]\n",
      " [13 14]\n",
      " [15 16]]\n",
      "[[11 12]\n",
      " [13 14]\n",
      " [15 16]]\n",
      "[[ 1  2]\n",
      " [ 3  4]\n",
      " [11 12]\n",
      " [13 14]\n",
      " [21 22]\n",
      " [23 24]]\n",
      "[[ 1  2  3  4 11 12 13 14 21 22 23 24]]\n"
     ]
    }
   ],
   "source": [
    "#改變結構\n",
    "print(a4.reshape(2,3))\n",
    "print(a4)\n",
    "print('-------------------')\n",
    "\n",
    "print(a4.reshape(3,-1))# -1代表自動調整計算\n",
    "print(a4.reshape(-1,2))\n",
    "\n",
    "print(a5.reshape(6,-1))# -1代表自動調整計算\n",
    "print(a5.reshape(-1,12))"
   ]
  },
  {
   "cell_type": "code",
   "execution_count": 8,
   "metadata": {},
   "outputs": [
    {
     "name": "stdout",
     "output_type": "stream",
     "text": [
      "[ 1  2  3  4 11 12 13 14 21 22 23 24]\n"
     ]
    }
   ],
   "source": [
    "#轉成一維\n",
    "print(a5.reshape(-1))"
   ]
  },
  {
   "cell_type": "code",
   "execution_count": 9,
   "metadata": {},
   "outputs": [
    {
     "name": "stdout",
     "output_type": "stream",
     "text": [
      "[86 75 89]\n",
      "89\n",
      "89\n"
     ]
    }
   ],
   "source": [
    "#讀取元素\n",
    "x = np.array([[86,75,89],\n",
    "              [77,62,81],\n",
    "              [82,69,85]]) \n",
    "#指定單一位置，若位置不存在則出錯\n",
    "print(x[0])\n",
    "#print(x[5])\n",
    "print(x[0][2])\n",
    "print(x[0,2])"
   ]
  },
  {
   "cell_type": "code",
   "execution_count": 10,
   "metadata": {},
   "outputs": [
    {
     "name": "stdout",
     "output_type": "stream",
     "text": [
      "[[86 75 89]\n",
      " [77 62 81]]\n",
      "----------------\n",
      "[75]\n",
      "[75 89]\n",
      "[]\n",
      "[86 75 89]\n",
      "----------------\n",
      "[[86 75 89]\n",
      " [77 62 81]\n",
      " [82 69 85]]\n",
      "[[86 75 89]\n",
      " [77 62 81]\n",
      " [82 69 85]]\n",
      "----------------\n",
      "[86 75]\n",
      "[[75 89]\n",
      " [62 81]]\n"
     ]
    }
   ],
   "source": [
    "#slice 範圍選取，若位置不存在則返回[]\n",
    "print(x[:2])\n",
    "print('----------------')\n",
    "print(x[0][1:2])\n",
    "print(x[0][1: ])\n",
    "print(x[0][10:30])\n",
    "print(x[0][:20])\n",
    "print('----------------')\n",
    "print(x[:])\n",
    "print(x)\n",
    "print('----------------')\n",
    "print(x[0,0:2])\n",
    "print(x[:2, 1:])"
   ]
  },
  {
   "cell_type": "code",
   "execution_count": 11,
   "metadata": {},
   "outputs": [
    {
     "name": "stdout",
     "output_type": "stream",
     "text": [
      "[[86 75 89]\n",
      " [77 62 81]\n",
      " [82 69 85]]\n",
      "[[86 75 89]\n",
      " [77 62 81]]\n",
      "----------------\n",
      "[75]\n",
      "[75 89]\n",
      "[]\n",
      "[86 75 89]\n",
      "----------------\n",
      "[[86 75 89]\n",
      " [77 62 81]\n",
      " [82 69 85]]\n",
      "[[86 75 89]\n",
      " [77 62 81]\n",
      " [82 69 85]]\n",
      "----------------\n",
      "[86 75]\n",
      "[[75 89]\n",
      " [62 81]]\n"
     ]
    }
   ],
   "source": [
    "#slice 範圍選取，若位置不存在則返回[]\n",
    "print(x)\n",
    "print(x[:2])\n",
    "print('----------------')\n",
    "print(x[0][1:2])\n",
    "print(x[0][1: ])\n",
    "print(x[0][10:30])\n",
    "print(x[0][:20])\n",
    "print('----------------')\n",
    "print(x[:])\n",
    "print(x)\n",
    "print('----------------')\n",
    "print(x[0,0:2])\n",
    "print(x[:2, 1:])"
   ]
  },
  {
   "cell_type": "code",
   "execution_count": 12,
   "metadata": {},
   "outputs": [
    {
     "name": "stdout",
     "output_type": "stream",
     "text": [
      "2\n",
      "[2 6 1]\n",
      "arr1:\n",
      "[[ 3 10]\n",
      " [ 9  6]\n",
      " [ 1  0]\n",
      " [ 1  9]\n",
      " [ 0  0]]\n",
      "-----------------------\n",
      "arr2:\n",
      "[0.72904971 0.43857224 0.0596779 ]\n"
     ]
    }
   ],
   "source": [
    "# 亂數\n",
    "np.random.seed(123)#固定亂數規則(基數)\n",
    "\n",
    "arr0 = np.random.randint(0, 11)#0-11(有包含11)之間產生一個隨機整數\n",
    "print(arr0)\n",
    "arr00 = np.random.randint(0, 11, 3)#0-11(有包含11)之間產生3個隨機整數\n",
    "print(arr00)\n",
    "\n",
    "arr1 = np.random.randint(0, 11, (5, 2))# 5*2個\n",
    "print('arr1:')\n",
    "print(arr1)\n",
    "print(\"-----------------------\")\n",
    "\n",
    "arr2 = np.random.rand(3)# 3個隨機小數，0-1之間(不含 1)\n",
    "print('arr2:')\n",
    "print(arr2)"
   ]
  },
  {
   "cell_type": "code",
   "execution_count": 22,
   "metadata": {},
   "outputs": [
    {
     "name": "stdout",
     "output_type": "stream",
     "text": [
      "['奇異果' '草莓' '蘋果']\n"
     ]
    }
   ],
   "source": [
    "np.random.seed(0)#隨機選\n",
    "x = ['蘋果', '橘子', '香蕉', '鳳梨', '奇異果', '草莓']\n",
    "print(np.random.choice(x,3))#隨機選三個\n"
   ]
  },
  {
   "cell_type": "code",
   "execution_count": 23,
   "metadata": {},
   "outputs": [
    {
     "name": "stdout",
     "output_type": "stream",
     "text": [
      "[0 1 2 3 4 5 6 7 8 9]\n",
      "[ True False False False False  True False False False False]\n",
      "[0 5]\n"
     ]
    }
   ],
   "source": [
    "# 條件套用\n",
    "arr = np.arange(10)#產生0~9的整數(小於10的整數)\n",
    "\n",
    "new_arr = arr%5==0\n",
    "print(arr)\n",
    "print(new_arr)\n",
    "print(arr[new_arr])"
   ]
  },
  {
   "cell_type": "code",
   "execution_count": 24,
   "metadata": {},
   "outputs": [
    {
     "name": "stdout",
     "output_type": "stream",
     "text": [
      "[ 4 -9 16 -4 20]\n",
      "絕對值: [ 4  9 16  4 20]\n",
      "e為底數: [5.45981500e+01 8.10308393e+03 8.88611052e+06 5.45981500e+01\n",
      " 4.85165195e+08]\n",
      "平方根: [2.         3.         4.         2.         4.47213595]\n"
     ]
    }
   ],
   "source": [
    "arr = np.array([4, -9, 16, -4, 20])\n",
    "print(arr)\n",
    "arr_abs = np.abs(arr)\n",
    "print('絕對值:',arr_abs)\n",
    "print('e為底數:',np.exp(arr_abs))\n",
    "print('平方根:',np.sqrt(arr_abs))"
   ]
  },
  {
   "cell_type": "code",
   "execution_count": 28,
   "metadata": {},
   "outputs": [
    {
     "name": "stdout",
     "output_type": "stream",
     "text": [
      "[[0 1 2]\n",
      " [3 4 5]\n",
      " [6 7 8]]\n"
     ]
    }
   ],
   "source": [
    "b1 = np.array(np.arange(9).reshape(3,-1))\n",
    "print(b1)"
   ]
  },
  {
   "cell_type": "code",
   "execution_count": 26,
   "metadata": {},
   "outputs": [
    {
     "name": "stdout",
     "output_type": "stream",
     "text": [
      "36\n",
      "[ 9 12 15]\n",
      "[ 3 12 21]\n"
     ]
    }
   ],
   "source": [
    "print(np.sum(b1))\n",
    "print(np.sum(b1, axis=0))#垂直向下\n",
    "print(np.sum(b1, axis=1))#水平向右"
   ]
  },
  {
   "cell_type": "code",
   "execution_count": 31,
   "metadata": {},
   "outputs": [
    {
     "name": "stdout",
     "output_type": "stream",
     "text": [
      "[[0 1 2]\n",
      " [3 4 5]\n",
      " [6 7 8]]\n",
      "[ 9 12 15]\n"
     ]
    }
   ],
   "source": [
    "print(b1)\n",
    "print(sum(b1))#python內建函式,垂直"
   ]
  },
  {
   "cell_type": "code",
   "execution_count": 32,
   "metadata": {},
   "outputs": [
    {
     "name": "stdout",
     "output_type": "stream",
     "text": [
      "垂直加總： [ 9 12 15]\n",
      "橫向加總： [ 3 12 21]\n",
      "------------------------------------\n",
      "加總： [ 9 12 15]\n",
      "平均： [3. 4. 5.]\n",
      "中位數： [3. 4. 5.]\n",
      "變異數： [6. 6. 6.]\n",
      "標準差： [2.44948974 2.44948974 2.44948974]\n",
      "------------------------------------\n",
      "最大值： [6 7 8]\n",
      "最小值： [0 1 2]\n",
      "差距： [6 6 6]\n"
     ]
    }
   ],
   "source": [
    "print(\"垂直加總：\",np.sum(b1, axis=0))\n",
    "print(\"橫向加總：\",np.sum(b1, axis=1))\n",
    "print(\"------------------------------------\")\n",
    "print(\"加總：\",b1.sum(axis=0))\n",
    "\n",
    "print(\"平均：\",np.mean(b1, axis=0))\n",
    "print(\"中位數：\",np.median(b1, axis=0))\n",
    "#離群值很少==>用平均\n",
    "#離群值很多==>用中位數\n",
    "\n",
    "print(\"變異數：\",np.var(b1, axis=0))\n",
    "print(\"標準差：\",np.std(b1, axis=0))\n",
    "\n",
    "print(\"------------------------------------\")\n",
    "\n",
    "print(\"最大值：\",np.max(b1, axis=0))\n",
    "print(\"最小值：\",np.min(b1, axis=0))\n",
    "\n",
    "print(\"差距：\",np.ptp(b1, axis=0))"
   ]
  }
 ],
 "metadata": {
  "kernelspec": {
   "display_name": "Python 3",
   "language": "python",
   "name": "python3"
  },
  "language_info": {
   "codemirror_mode": {
    "name": "ipython",
    "version": 3
   },
   "file_extension": ".py",
   "mimetype": "text/x-python",
   "name": "python",
   "nbconvert_exporter": "python",
   "pygments_lexer": "ipython3",
   "version": "3.10.13"
  }
 },
 "nbformat": 4,
 "nbformat_minor": 2
}
