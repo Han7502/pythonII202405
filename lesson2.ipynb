{
 "cells": [
  {
   "cell_type": "code",
   "execution_count": 7,
   "metadata": {},
   "outputs": [],
   "source": [
    "import numpy as np\n",
    "import pandas as pd"
   ]
  },
  {
   "cell_type": "code",
   "execution_count": 8,
   "metadata": {},
   "outputs": [
    {
     "name": "stdout",
     "output_type": "stream",
     "text": [
      "0    78\n",
      "1    82\n",
      "2    86\n",
      "3    65\n",
      "dtype: int64\n",
      "A    78\n",
      "B    82\n",
      "C    86\n",
      "D    65\n",
      "dtype: int64\n",
      "78 78\n",
      "a    78\n",
      "b    82\n",
      "c    86\n",
      "d    65\n",
      "dtype: int64\n"
     ]
    },
    {
     "name": "stderr",
     "output_type": "stream",
     "text": [
      "/tmp/ipykernel_31478/2495710010.py:8: FutureWarning: Series.__getitem__ treating keys as positions is deprecated. In a future version, integer keys will always be treated as labels (consistent with DataFrame behavior). To access a value by position, use `ser.iloc[pos]`\n",
      "  print(s1[0],s1[\"A\"])\n"
     ]
    }
   ],
   "source": [
    "#Series : 單欄/一維\n",
    "s1 = pd.Series([78,82,86,65])\n",
    "print(s1)\n",
    "\n",
    "s1 = pd.Series([78,82,86,65], index=list(\"ABCD\"))\n",
    "#list(\"ABCD\")=['A','B','C','D']\n",
    "print(s1)\n",
    "print(s1[0],s1[\"A\"])\n",
    "\n",
    "s1 = pd.Series({'a':78,'b':82,'c':86,'d':65})\n",
    "print(s1)"
   ]
  },
  {
   "cell_type": "code",
   "execution_count": 9,
   "metadata": {},
   "outputs": [
    {
     "name": "stdout",
     "output_type": "stream",
     "text": [
      "78 <class 'numpy.int64'>\n",
      "78 <class 'numpy.int64'>\n",
      "78 <class 'numpy.int64'>\n"
     ]
    },
    {
     "name": "stderr",
     "output_type": "stream",
     "text": [
      "/tmp/ipykernel_31478/491585184.py:1: FutureWarning: Series.__getitem__ treating keys as positions is deprecated. In a future version, integer keys will always be treated as labels (consistent with DataFrame behavior). To access a value by position, use `ser.iloc[pos]`\n",
      "  print(s1[0], type(s1[0]))\n"
     ]
    }
   ],
   "source": [
    "print(s1[0], type(s1[0]))\n",
    "print(s1['a'], type(s1['a']))\n",
    "print(s1.a, type(s1.a))"
   ]
  }
 ],
 "metadata": {
  "kernelspec": {
   "display_name": "Python 3",
   "language": "python",
   "name": "python3"
  },
  "language_info": {
   "codemirror_mode": {
    "name": "ipython",
    "version": 3
   },
   "file_extension": ".py",
   "mimetype": "text/x-python",
   "name": "python",
   "nbconvert_exporter": "python",
   "pygments_lexer": "ipython3",
   "version": "3.10.13"
  }
 },
 "nbformat": 4,
 "nbformat_minor": 2
}
