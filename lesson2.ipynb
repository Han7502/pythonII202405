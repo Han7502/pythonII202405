{
 "cells": [
  {
   "cell_type": "code",
   "execution_count": 7,
   "metadata": {},
   "outputs": [],
   "source": [
    "import numpy as np\n",
    "import pandas as pd"
   ]
  },
  {
   "cell_type": "code",
   "execution_count": 8,
   "metadata": {},
   "outputs": [
    {
     "name": "stdout",
     "output_type": "stream",
     "text": [
      "0    78\n",
      "1    82\n",
      "2    86\n",
      "3    65\n",
      "dtype: int64\n",
      "A    78\n",
      "B    82\n",
      "C    86\n",
      "D    65\n",
      "dtype: int64\n",
      "78 78\n",
      "a    78\n",
      "b    82\n",
      "c    86\n",
      "d    65\n",
      "dtype: int64\n"
     ]
    },
    {
     "name": "stderr",
     "output_type": "stream",
     "text": [
      "/tmp/ipykernel_31478/2495710010.py:8: FutureWarning: Series.__getitem__ treating keys as positions is deprecated. In a future version, integer keys will always be treated as labels (consistent with DataFrame behavior). To access a value by position, use `ser.iloc[pos]`\n",
      "  print(s1[0],s1[\"A\"])\n"
     ]
    }
   ],
   "source": [
    "#Series : 單欄/一維\n",
    "s1 = pd.Series([78,82,86,65])\n",
    "print(s1)\n",
    "\n",
    "s1 = pd.Series([78,82,86,65], index=list(\"ABCD\"))\n",
    "#list(\"ABCD\")=['A','B','C','D']\n",
    "print(s1)\n",
    "print(s1[0],s1[\"A\"])\n",
    "\n",
    "s1 = pd.Series({'a':78,'b':82,'c':86,'d':65})\n",
    "print(s1)"
   ]
  },
  {
   "cell_type": "code",
   "execution_count": 9,
   "metadata": {},
   "outputs": [
    {
     "name": "stdout",
     "output_type": "stream",
     "text": [
      "78 <class 'numpy.int64'>\n",
      "78 <class 'numpy.int64'>\n",
      "78 <class 'numpy.int64'>\n"
     ]
    },
    {
     "name": "stderr",
     "output_type": "stream",
     "text": [
      "/tmp/ipykernel_31478/491585184.py:1: FutureWarning: Series.__getitem__ treating keys as positions is deprecated. In a future version, integer keys will always be treated as labels (consistent with DataFrame behavior). To access a value by position, use `ser.iloc[pos]`\n",
      "  print(s1[0], type(s1[0]))\n"
     ]
    }
   ],
   "source": [
    "print(s1[0], type(s1[0]))\n",
    "print(s1['a'], type(s1['a']))#多欄時,這會是二維\n",
    "print(s1.a, type(s1.a))#多欄時,這會是一維"
   ]
  },
  {
   "cell_type": "code",
   "execution_count": 10,
   "metadata": {},
   "outputs": [
    {
     "name": "stdout",
     "output_type": "stream",
     "text": [
      "a    88\n",
      "b    92\n",
      "c    96\n",
      "d    75\n",
      "dtype: int64\n",
      "a    78\n",
      "b    82\n",
      "c    86\n",
      "dtype: int64\n"
     ]
    }
   ],
   "source": [
    "print(s1+[10])\n",
    "print(s1[:'c'])#'c'有包含"
   ]
  },
  {
   "cell_type": "code",
   "execution_count": 11,
   "metadata": {},
   "outputs": [
    {
     "name": "stdout",
     "output_type": "stream",
     "text": [
      "    0   1   2\n",
      "0  11  22  33\n",
      "1  31  32  33\n",
      "2  51  52  53\n"
     ]
    },
    {
     "data": {
      "text/html": [
       "<div>\n",
       "<style scoped>\n",
       "    .dataframe tbody tr th:only-of-type {\n",
       "        vertical-align: middle;\n",
       "    }\n",
       "\n",
       "    .dataframe tbody tr th {\n",
       "        vertical-align: top;\n",
       "    }\n",
       "\n",
       "    .dataframe thead th {\n",
       "        text-align: right;\n",
       "    }\n",
       "</style>\n",
       "<table border=\"1\" class=\"dataframe\">\n",
       "  <thead>\n",
       "    <tr style=\"text-align: right;\">\n",
       "      <th></th>\n",
       "      <th>0</th>\n",
       "      <th>1</th>\n",
       "      <th>2</th>\n",
       "    </tr>\n",
       "  </thead>\n",
       "  <tbody>\n",
       "    <tr>\n",
       "      <th>0</th>\n",
       "      <td>11</td>\n",
       "      <td>22</td>\n",
       "      <td>33</td>\n",
       "    </tr>\n",
       "    <tr>\n",
       "      <th>1</th>\n",
       "      <td>31</td>\n",
       "      <td>32</td>\n",
       "      <td>33</td>\n",
       "    </tr>\n",
       "    <tr>\n",
       "      <th>2</th>\n",
       "      <td>51</td>\n",
       "      <td>52</td>\n",
       "      <td>53</td>\n",
       "    </tr>\n",
       "  </tbody>\n",
       "</table>\n",
       "</div>"
      ],
      "text/plain": [
       "    0   1   2\n",
       "0  11  22  33\n",
       "1  31  32  33\n",
       "2  51  52  53"
      ]
     },
     "execution_count": 11,
     "metadata": {},
     "output_type": "execute_result"
    }
   ],
   "source": [
    "#DataFrame: 多欄/二維\n",
    "import pandas as pd\n",
    "\n",
    "df1 = pd.DataFrame([[11,22,33],\n",
    "                    [31,32,33],\n",
    "                    [51,52,53]]\n",
    "                  )\n",
    "print(df1)\n",
    "df1"
   ]
  },
  {
   "cell_type": "code",
   "execution_count": 15,
   "metadata": {},
   "outputs": [
    {
     "name": "stdout",
     "output_type": "stream",
     "text": [
      "   a1  b1  c1\n",
      "X  11  22  33\n",
      "Y  31  32  33\n",
      "Z  51  52  53\n",
      "X    11\n",
      "Y    31\n",
      "Z    51\n",
      "Name: a1, dtype: int64\n",
      "-------------\n",
      "-------------\n",
      "Empty DataFrame\n",
      "Columns: [a1, b1, c1]\n",
      "Index: []\n"
     ]
    }
   ],
   "source": [
    "import pandas as pd\n",
    "\n",
    "df1 = pd.DataFrame([[11,22,33],\n",
    "                    [31,32,33],\n",
    "                    [51,52,53]], \n",
    "                   index= [\"X\",\"Y\",\"Z\"], #list(\"ABC\")\n",
    "                   columns=['a1','b1','c1']\n",
    "                  )\n",
    "print(df1)\n",
    "print(df1['a1'])#以欄為主\n",
    "print('-------------')\n",
    "# print(df1['Z'])#無法讀取row\n",
    "print('-------------')\n",
    "print(df1['a1':'c1'])#Empty無法讀取資料"
   ]
  },
  {
   "cell_type": "code",
   "execution_count": 17,
   "metadata": {},
   "outputs": [
    {
     "name": "stdout",
     "output_type": "stream",
     "text": [
      "   name  score\n",
      "A   JOE     82\n",
      "B  MARY     81\n",
      "C   BEN     79\n",
      "-------------\n",
      "A     JOE\n",
      "B    MARY\n",
      "C     BEN\n",
      "Name: name, dtype: object\n",
      "A     JOE\n",
      "B    MARY\n",
      "C     BEN\n",
      "Name: name, dtype: object\n",
      "   name\n",
      "A   JOE\n",
      "B  MARY\n",
      "C   BEN\n"
     ]
    }
   ],
   "source": [
    "\n",
    "df2 = pd.DataFrame({'name':['JOE',\"MARY\",\"BEN\"],\n",
    "                   \"score\":[82,81,79]},\n",
    "                  index=list(\"ABC\"))\n",
    "print(df2)\n",
    "#print(df2['A'][ \"score\"])\n",
    "print('-------------')\n",
    "print(df2.name)#以欄為主,單欄一維\n",
    "print(df2['name'])#以欄為主df2['name'],單欄,一維\n",
    "print(df2[['name']])#以欄為主df2[['name']],多欄,二維\n",
    "#print(df2[0])\n",
    "#print(df2['A'][[ \"name\"]])\n"
   ]
  },
  {
   "cell_type": "code",
   "execution_count": 18,
   "metadata": {},
   "outputs": [
    {
     "data": {
      "text/html": [
       "<div>\n",
       "<style scoped>\n",
       "    .dataframe tbody tr th:only-of-type {\n",
       "        vertical-align: middle;\n",
       "    }\n",
       "\n",
       "    .dataframe tbody tr th {\n",
       "        vertical-align: top;\n",
       "    }\n",
       "\n",
       "    .dataframe thead th {\n",
       "        text-align: right;\n",
       "    }\n",
       "</style>\n",
       "<table border=\"1\" class=\"dataframe\">\n",
       "  <thead>\n",
       "    <tr style=\"text-align: right;\">\n",
       "      <th></th>\n",
       "      <th>0</th>\n",
       "      <th>1</th>\n",
       "      <th>2</th>\n",
       "      <th>3</th>\n",
       "      <th>4</th>\n",
       "      <th>5</th>\n",
       "    </tr>\n",
       "  </thead>\n",
       "  <tbody>\n",
       "    <tr>\n",
       "      <th>0</th>\n",
       "      <td>雲林客運</td>\n",
       "      <td>101</td>\n",
       "      <td>斗六棒球場-受天宮-環球科技大學</td>\n",
       "      <td>3</td>\n",
       "      <td>凱勝比亞迪</td>\n",
       "      <td>KGETM3EV-K9DA</td>\n",
       "    </tr>\n",
       "    <tr>\n",
       "      <th>1</th>\n",
       "      <td>雲林客運</td>\n",
       "      <td>102</td>\n",
       "      <td>斗六火車站-崙仔集會所</td>\n",
       "      <td>3</td>\n",
       "      <td>凱勝比亞迪</td>\n",
       "      <td>KGETM3EV-K9DA</td>\n",
       "    </tr>\n",
       "    <tr>\n",
       "      <th>2</th>\n",
       "      <td>雲林客運</td>\n",
       "      <td>201</td>\n",
       "      <td>高鐵雲林站-雲林科技大學</td>\n",
       "      <td>6</td>\n",
       "      <td>馨盛比亞迪</td>\n",
       "      <td>SYTCITY8E-K9</td>\n",
       "    </tr>\n",
       "  </tbody>\n",
       "</table>\n",
       "</div>"
      ],
      "text/plain": [
       "      0    1                 2  3      4              5\n",
       "0  雲林客運  101  斗六棒球場-受天宮-環球科技大學  3  凱勝比亞迪  KGETM3EV-K9DA\n",
       "1  雲林客運  102       斗六火車站-崙仔集會所  3  凱勝比亞迪  KGETM3EV-K9DA\n",
       "2  雲林客運  201      高鐵雲林站-雲林科技大學  6  馨盛比亞迪   SYTCITY8E-K9"
      ]
     },
     "execution_count": 18,
     "metadata": {},
     "output_type": "execute_result"
    }
   ],
   "source": [
    "\n",
    "df3 = pd.read_csv(\"34193e9.csv\"\n",
    "                 ,header=None #不要讓第一筆資料來當標題\n",
    "                 #, names=['name','no','start-end','step','logo','car_no']\n",
    "                 )\n",
    "#預設會抓第一列當欄位名，header=None不要抓第一列，可用names=[]來指定欄位名\n",
    "\n",
    "df3"
   ]
  }
 ],
 "metadata": {
  "kernelspec": {
   "display_name": "Python 3",
   "language": "python",
   "name": "python3"
  },
  "language_info": {
   "codemirror_mode": {
    "name": "ipython",
    "version": 3
   },
   "file_extension": ".py",
   "mimetype": "text/x-python",
   "name": "python",
   "nbconvert_exporter": "python",
   "pygments_lexer": "ipython3",
   "version": "3.10.13"
  }
 },
 "nbformat": 4,
 "nbformat_minor": 2
}
